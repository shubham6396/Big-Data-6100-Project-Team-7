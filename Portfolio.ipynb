{
 "cells": [
  {
   "cell_type": "code",
   "execution_count": 1,
   "metadata": {},
   "outputs": [],
   "source": [
    "import numpy as np\n",
    "import pandas as pd\n",
    "import matplotlib.pyplot as plt"
   ]
  },
  {
   "cell_type": "code",
   "execution_count": 8,
   "metadata": {},
   "outputs": [
    {
     "data": {
      "text/plain": [
       "424"
      ]
     },
     "execution_count": 8,
     "metadata": {},
     "output_type": "execute_result"
    }
   ],
   "source": [
    "training_dataset=pd.read_csv(\"training_data.csv\")\n",
    "count_row=training_dataset.shape[0]\n",
    "count=(int)(count_row/1000)\n",
    "count"
   ]
  },
  {
   "cell_type": "code",
   "execution_count": 9,
   "metadata": {},
   "outputs": [
    {
     "data": {
      "text/plain": [
       "18869"
      ]
     },
     "execution_count": 9,
     "metadata": {},
     "output_type": "execute_result"
    }
   ],
   "source": [
    "training_dataset_with_loss = pd.DataFrame(columns=training_dataset.columns)\n",
    "cond = training_dataset.Loss_Amount>0\n",
    "rows = training_dataset.loc[cond, :]\n",
    "training_dataset_with_loss = training_dataset_with_loss.append(rows, ignore_index=True)\n",
    "count_row_with_loss=training_dataset_with_loss.shape[0]\n",
    "count_row_with_loss"
   ]
  },
  {
   "cell_type": "code",
   "execution_count": 10,
   "metadata": {},
   "outputs": [
    {
     "data": {
      "text/plain": [
       "422"
      ]
     },
     "execution_count": 10,
     "metadata": {},
     "output_type": "execute_result"
    }
   ],
   "source": [
    "training_dataset_without_loss=pd.DataFrame(columns=training_dataset.columns)\n",
    "cond = training_dataset.Loss_Amount<=0\n",
    "rows = training_dataset.loc[cond, :]\n",
    "training_dataset_without_loss = training_dataset_without_loss.append(rows, ignore_index=True)\n",
    "count_row_without_loss=training_dataset_without_loss.shape[0]\n",
    "count_row_without_loss=int(count_row_without_loss/960)\n",
    "count_row_without_loss"
   ]
  },
  {
   "cell_type": "code",
   "execution_count": null,
   "metadata": {},
   "outputs": [],
   "source": [
    "portfolio_policies_count_without_loss=960\n",
    "portfolio_policies_count_with_loss=40\n",
    "for i in range(0,count_row_without_loss):\n",
    "    df1=training_dataset_with_loss.sample(n=portfolio_policies_count_with_loss)\n",
    "    training_dataset_with_loss=training_dataset_with_loss.drop(df1.index)\n",
    "    df2=training_dataset_without_loss.sample(n=portfolio_policies_count_without_loss)\n",
    "    training_dataset_without_loss=training_dataset_without_loss.drop(df2.index)\n",
    "    df3=df1.append(df2)\n",
    "    df3.to_csv('2020_Spring_training_dataset/training_portfolio_'+str(i+1)+'.csv') "
   ]
  },
  {
   "cell_type": "code",
   "execution_count": null,
   "metadata": {},
   "outputs": [],
   "source": []
  },
  {
   "cell_type": "code",
   "execution_count": null,
   "metadata": {},
   "outputs": [],
   "source": []
  },
  {
   "cell_type": "code",
   "execution_count": null,
   "metadata": {},
   "outputs": [],
   "source": [
    "\n"
   ]
  },
  {
   "cell_type": "code",
   "execution_count": null,
   "metadata": {},
   "outputs": [],
   "source": []
  },
  {
   "cell_type": "code",
   "execution_count": null,
   "metadata": {},
   "outputs": [],
   "source": []
  }
 ],
 "metadata": {
  "kernelspec": {
   "display_name": "Python 3",
   "language": "python",
   "name": "python3"
  },
  "language_info": {
   "codemirror_mode": {
    "name": "ipython",
    "version": 3
   },
   "file_extension": ".py",
   "mimetype": "text/x-python",
   "name": "python",
   "nbconvert_exporter": "python",
   "pygments_lexer": "ipython3",
   "version": "3.7.4"
  }
 },
 "nbformat": 4,
 "nbformat_minor": 4
}
